{
 "cells": [
  {
   "cell_type": "markdown",
   "id": "a8357502",
   "metadata": {},
   "source": [
    "## Задача\n",
    "\n",
    "**Выявление инфраструктуры на спутниковых снимках с высоким разрешением.**"
   ]
  },
  {
   "cell_type": "markdown",
   "id": "7f8b20b2",
   "metadata": {},
   "source": [
    "### Изучение данных и педобработка"
   ]
  },
  {
   "cell_type": "code",
   "execution_count": null,
   "id": "746002a9",
   "metadata": {},
   "outputs": [],
   "source": [
    "import cv2\n",
    "import numpy as np\n",
    "import pandas as pd\n",
    "import cv2\n",
    "from scipy import io\n",
    "#import tensorflow_datasets as tfds\n",
    "import tensorflow as tf\n",
    "#from tensorflow import keras\n",
    "import matplotlib.pyplot as plt\n",
    "from PIL import Image\n",
    "import PIL\n",
    "import os\n",
    "import re\n",
    "from keras.models import load_model\n",
    "import keras_segmentation\n",
    "import types\n",
    "from keras_segmentation.predict import predict\n",
    "from keras_segmentation.models.unet import vgg_unet\n",
    "from sklearn.metrics import classification_report"
   ]
  },
  {
   "cell_type": "code",
   "execution_count": null,
   "id": "3e4b2286",
   "metadata": {},
   "outputs": [],
   "source": [
    "def print_image_mask(image_path, mask_path):\n",
    "    image = cv2.imread(image_path)\n",
    "    mask = cv2.imread(mask_path, 0)   \n",
    "    res = cv2.bitwise_and(image, image, mask=mask)\n",
    "    fig, ax = plt.subplots(1,2,figsize=(18,8))\n",
    "    ax[0].imshow(image)\n",
    "    ax[1].imshow(res)"
   ]
  },
  {
   "cell_type": "code",
   "execution_count": null,
   "id": "64370560",
   "metadata": {},
   "outputs": [],
   "source": [
    "def print_3_pic(image_path, mask_path, path):\n",
    "    image = cv2.imread(image_path)\n",
    "    mask = cv2.imread(mask_path, 0)\n",
    "    pic = cv2.imread(path)\n",
    "    fig, ax = plt.subplots(1,3,figsize=(12,6))\n",
    "    ax[0].imshow(image)\n",
    "    res = cv2.bitwise_and(image, image, mask=mask)\n",
    "    ax[1].imshow(res)\n",
    "    ax[2].imshow(pic)"
   ]
  },
  {
   "cell_type": "code",
   "execution_count": null,
   "id": "dd4d6d68",
   "metadata": {},
   "outputs": [],
   "source": [
    "def adjust_contrast_brightness(img, contrast:float=10.0, brightness:int=0):\n",
    "    \"\"\"\n",
    "    Adjusts contrast and brightness of an uint8 image.\n",
    "    contrast:   (0.0,  inf) with 1.0 leaving the contrast as is\n",
    "    brightness: [-255, 255] with 0 leaving the brightness as is\n",
    "    \"\"\"\n",
    "    brightness += int(round(255*(1-contrast)/2))\n",
    "    '''\n",
    "    low_green = np.array([25, 52, 72])\n",
    "    high_green = np.array([102, 255, 255])\n",
    "    mask = cv2.inRange(imgHSV, low_green, high_green)\n",
    "    mask = 255-mask\n",
    "    img = cv2.bitwise_and(img, img, mask=mask)\n",
    "    print(img)\n",
    "    '''\n",
    "    \n",
    "    return cv2.addWeighted(img, contrast, img, 0, brightness)"
   ]
  },
  {
   "cell_type": "code",
   "execution_count": null,
   "id": "7028b0e2",
   "metadata": {},
   "outputs": [],
   "source": [
    "def cut_pic (path, p_mask, splitter, extract, index):\n",
    "    image = cv2.imread(path)\n",
    "    mask = cv2.imread(p_mask, 0)\n",
    "    h, w = image.shape[0:2]\n",
    "    img_oi = []\n",
    "    mask_oi = []\n",
    "    if image.shape[0:2] == mask.shape[0:2]:\n",
    "        jndex = 0\n",
    "        h, w = image.shape[0:2]\n",
    "        print(\"equal\", r'h =', h, 'w =', w)\n",
    "        (y, x) = (h // splitter, w // splitter)\n",
    "        for i in range(splitter):\n",
    "            for j in range(splitter):\n",
    "                if (j < splitter - 1):\n",
    "                    start_y = i*y\n",
    "                    end_y = i*y+y\n",
    "                    start_x = j*x\n",
    "                    end_x = j*x+x\n",
    "                else:\n",
    "                    start_y = i*y+y\n",
    "                    end_y = h\n",
    "                    start_x = j*x+x\n",
    "                    end_x = w   \n",
    "                #print(start_y, \":\", end_y, \" / \",start_x, \":\", end_x)\n",
    "                i_tmp = image[start_y:end_y, start_x:end_x]\n",
    "                m_tmp = mask[start_y:end_y, start_x:end_x]\n",
    "                masked_image= cv2.bitwise_and(i_tmp, i_tmp, mask=m_tmp)\n",
    "                # Считаем количество ненулевых пикселей в маске\n",
    "                pixel_count = np.count_nonzero(masked_image)\n",
    "                if (pixel_count > 40000):\n",
    "                    img_oi.append(i_tmp)\n",
    "                    mask_oi.append(m_tmp)\n",
    "                    \n",
    "                    image_path = extract + \"/images/\" + str(index) + '_' + str(jndex) + '.png'\n",
    "                    #cv2.imwrite(image_path, i_tmp)\n",
    "                    mask_path = extract + \"/masks/\" + str(index) + '_' + str(jndex) + '.png'\n",
    "                    m_tmp = cv2.cvtColor(m_tmp, cv2.COLOR_GRAY2RGB)\n",
    "                    #cv2.imwrite(mask_path, m_tmp)\n",
    "                    bright_path = extract + \"/bright/\"  + str(index) + '_' + str(jndex) + '.png'\n",
    "                    #cv2.imwrite(bright_path, adjust_contrast_brightness(i_tmp))\n",
    "                    jndex +=1\n",
    "                    if ((j % 2 == 0) & (i % 3 == 0)):\n",
    "                        print_3_pic(image_path, mask_path, bright_path)\n",
    "                    #print(0*3*((end_y - start_y)*(end_x - start_x)),pixel_count,  0.7 *((end_y - start_y)*(end_x - start_x)))\n",
    "            \n",
    "        #print(i*y+y, \":\", h, \" / \",j*x+x, \":\", w)\n",
    "    else:\n",
    "        print(\"not equal\")\n",
    "    print(len(img_oi), len(mask_oi))\n",
    "    return img_oi, mask_oi"
   ]
  },
  {
   "cell_type": "code",
   "execution_count": null,
   "id": "11cc6318",
   "metadata": {
    "scrolled": true
   },
   "outputs": [],
   "source": [
    "#path = \"C:/Users/Maria Smirnova/Desktop/Проекты/satellite data/train/images\"\n",
    "path = \"train/images\"\n",
    "index = 0\n",
    "train_images =[]\n",
    "train_masks = []\n",
    "for address, dirs, files in os.walk(path):\n",
    "    for f in files:\n",
    "        image_path = address + '/' + f\n",
    "        mask_path = re.sub('images', 'masks', address)\n",
    "        mask_path += '/' + re.sub('image', 'mask', f)\n",
    "        #print(image_path, mask_path)\n",
    "        img, msk =cut_pic(image_path, mask_path, 20, \"train/processing/\", index)\n",
    "        train_images += img\n",
    "        train_masks += msk\n",
    "        index +=1"
   ]
  },
  {
   "cell_type": "markdown",
   "id": "7362ee01",
   "metadata": {},
   "source": [
    "### Пронозировнаие и оценка качества"
   ]
  },
  {
   "cell_type": "code",
   "execution_count": null,
   "id": "52eafd17",
   "metadata": {},
   "outputs": [],
   "source": [
    "model_path = \"train/processing/saved_models/30epoch_vgg_unet_segmentation.h5\"\n",
    "model = load_model(model_path)\n",
    "model.predict_segmentation = types.MethodType(keras_segmentation.predict.predict, model)"
   ]
  },
  {
   "cell_type": "code",
   "execution_count": null,
   "id": "1b8be096",
   "metadata": {},
   "outputs": [],
   "source": [
    "model_path = \"train/processing/saved_models/1class_35epoch_vgg_unet_segmentation.hdf5\"\n",
    "n_classes = 2\n",
    "model = vgg_unet(n_classes=n_classes)\n",
    "model.load_weights(model_path)"
   ]
  },
  {
   "cell_type": "code",
   "execution_count": null,
   "id": "77dd6c56",
   "metadata": {},
   "outputs": [],
   "source": [
    "#path = \"C:/Users/Maria Smirnova/Desktop/Проекты/satellite data/train/images\"\n",
    "path = \"train/processing/val_images\"\n",
    "out_path = \"train/processing/val_results\"\n",
    "for address, dirs, files in os.walk(path):\n",
    "    for f in files:\n",
    "        image_path = address + '/' + f\n",
    "        mask_path = re.sub('images', 'masks', address)\n",
    "        mask_path += '/' + re.sub('image', 'mask', f)\n",
    "        print(image_path, mask_path)\n",
    "        out = model.predict_segmentation(inp=image_path,\n",
    "                                         out_fname=(out_path + '/' + f))\n",
    "        #img, msk =cut_pic(image_path, mask_path, 20, \"train/processing/\", index)"
   ]
  },
  {
   "cell_type": "code",
   "execution_count": null,
   "id": "bfa1e75e",
   "metadata": {},
   "outputs": [],
   "source": [
    "import tensorflow as tf\n",
    "import keras.backend as K\n",
    "\n",
    "def f1_loss(y_true, y_pred):\n",
    "\n",
    "    tp = K.sum(K.cast(y_true*y_pred, 'float'), axis=0)\n",
    "    tn = K.sum(K.cast((1-y_true)*(1-y_pred), 'float'), axis=0)\n",
    "    fp = K.sum(K.cast((1-y_true)*y_pred, 'float'), axis=0)\n",
    "    fn = K.sum(K.cast(y_true*(1-y_pred), 'float'), axis=0)\n",
    "\n",
    "    p = tp / (tp + fp + K.epsilon())\n",
    "    r = tp / (tp + fn + K.epsilon())\n",
    "\n",
    "    f1 = 2*p*r / (p+r+K.epsilon())\n",
    "    #f1 = tf.where(tf.is_nan(f1), tf.zeros_like(f1), f1)\n",
    "    return 1 - K.mean(f1)"
   ]
  },
  {
   "cell_type": "code",
   "execution_count": null,
   "id": "74e2b024",
   "metadata": {
    "scrolled": false
   },
   "outputs": [],
   "source": [
    "path = \"train/processing/val_images\"\n",
    "mask_path = \"train/processing/val_masks\"\n",
    "out_path = \"train/processing/val_results\"\n",
    "for address, dirs, files in os.walk(path):\n",
    "    for f in files:\n",
    "        y_true = np.array(cv2.imread(out_path+'/'+f))\n",
    "        y_pred = np.array(cv2.imread(mask_path+'/'+f))\n",
    "        print(tf.keras.backend.get_value(f1_loss(y_true, y_pred)))\n",
    "        print_3_pic(path+'/'+f, mask_path+'/'+f, out_path+'/'+f)"
   ]
  },
  {
   "cell_type": "markdown",
   "id": "ef46b6a1",
   "metadata": {},
   "source": [
    "### Пайплайн тестового датасета  \n",
    "\n",
    "Расчитывался в ДВМ (DataSphere)"
   ]
  },
  {
   "cell_type": "code",
   "execution_count": null,
   "id": "2328eb6d",
   "metadata": {},
   "outputs": [],
   "source": [
    "path = \"/home/jupyter/datasphere/project/test/test_image_00\"\n",
    "for i in range(8):\n",
    "    print(i)\n",
    "    out = model.predict_segmentation(\n",
    "    inp=(path + str(i) + \".png\"),\n",
    "    out_fname=\"test_output_00\" + str(i) + \".png\")"
   ]
  },
  {
   "cell_type": "code",
   "execution_count": null,
   "id": "0fed813e",
   "metadata": {},
   "outputs": [],
   "source": []
  },
  {
   "cell_type": "markdown",
   "id": "4f9c73f7",
   "metadata": {},
   "source": [
    "### Обучение модели в DataSphere"
   ]
  },
  {
   "cell_type": "code",
   "execution_count": null,
   "id": "160c6174",
   "metadata": {},
   "outputs": [],
   "source": [
    "from tensorflow import keras\n",
    "import numpy as np\n",
    "import tensorflow as tf\n",
    "import cv2\n",
    "from scipy import io\n",
    "import tensorflow_datasets as tfds\n",
    "import matplotlib.pyplot as plt\n",
    "from PIL import Image\n",
    "import PIL\n",
    "from keras_segmentation.models.unet import vgg_unet"
   ]
  },
  {
   "cell_type": "code",
   "execution_count": null,
   "id": "1bd88a52",
   "metadata": {},
   "outputs": [],
   "source": [
    "from keras_segmentation.models.unet import vgg_unet\n",
    "from tensorflow.keras.metrics import Accuracy, Precision, Recall\n",
    "\n",
    "img_url = \"/home/jupyter/datasphere/project/images\"\n",
    "msk_url = \"/home/jupyter/datasphere/project/masks\"\n",
    "\n",
    "epochs = 30\n",
    "\n",
    "n_classes = 2\n",
    "model = vgg_unet(n_classes=n_classes)\n",
    "model.train(train_images = img_url, train_annotations = msk_url, \n",
    "            checkpoints_path = \"/home/jupyter/datasphere/project\", epochs=epochs)\n",
    "\n",
    "model.save('/home/jupyter/datasphere/project/100epoch_vgg_unet_segmentation.h5')"
   ]
  }
 ],
 "metadata": {
  "kernelspec": {
   "display_name": "Python 3 (ipykernel)",
   "language": "python",
   "name": "python3"
  },
  "language_info": {
   "codemirror_mode": {
    "name": "ipython",
    "version": 3
   },
   "file_extension": ".py",
   "mimetype": "text/x-python",
   "name": "python",
   "nbconvert_exporter": "python",
   "pygments_lexer": "ipython3",
   "version": "3.11.5"
  }
 },
 "nbformat": 4,
 "nbformat_minor": 5
}
